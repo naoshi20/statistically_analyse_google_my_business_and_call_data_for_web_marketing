{
  "nbformat": 4,
  "nbformat_minor": 0,
  "metadata": {
    "colab": {
      "name": "review_call.ipynb",
      "provenance": [],
      "collapsed_sections": []
    },
    "kernelspec": {
      "display_name": "review_call",
      "language": "python",
      "name": "review_call"
    },
    "language_info": {
      "codemirror_mode": {
        "name": "ipython",
        "version": 3
      },
      "file_extension": ".py",
      "mimetype": "text/x-python",
      "name": "python",
      "nbconvert_exporter": "python",
      "pygments_lexer": "ipython3",
      "version": "3.7.0"
    }
  },
  "cells": [
    {
      "cell_type": "code",
      "metadata": {
        "colab_type": "code",
        "id": "2pXUwD3Ok1XL",
        "colab": {}
      },
      "source": [
        "import gspread \n",
        "import pandas as pd\n",
        "import numpy as np\n",
        "import pandas as pd\n",
        "import matplotlib.pyplot as plt\n",
        "import seaborn as sns\n",
        "import statsmodels\n",
        "from oauth2client.service_account import ServiceAccountCredentials\n",
        "from sklearn import preprocessing\n",
        "from sklearn.linear_model import LinearRegression\n",
        "import statsmodels.api as sm \n",
        "import statsmodels.formula.api as smf\n",
        "from mpl_toolkits.mplot3d import Axes3D\n",
        "pd.set_option('display.max_rows', 200)\n",
        "pd.set_option('display.max_columns', 300)"
      ],
      "execution_count": 0,
      "outputs": []
    },
    {
      "cell_type": "code",
      "metadata": {
        "id": "HMGbDHzCtF1O",
        "colab_type": "code",
        "colab": {}
      },
      "source": [
        "%matplotlib inline"
      ],
      "execution_count": 0,
      "outputs": []
    },
    {
      "cell_type": "code",
      "metadata": {
        "id": "PTPsCWettF1R",
        "colab_type": "code",
        "colab": {}
      },
      "source": [
        "KEY_FILE_LOCATION = '#'\n",
        "scope = ['https://www.googleapis.com/auth/analytics.readonly','https://www.googleapis.com/auth/spreadsheets','https://www.googleapis.com/auth/spreadsheets','https://spreadsheets.google.com/feeds','https://www.googleapis.com/auth/drive']\n",
        "credentials = ServiceAccountCredentials.from_json_keyfile_name(\n",
        "            KEY_FILE_LOCATION, scopes=scope)\n",
        "gc = gspread.authorize(credentials)"
      ],
      "execution_count": 0,
      "outputs": []
    },
    {
      "cell_type": "code",
      "metadata": {
        "id": "M1SCD5kftF1U",
        "colab_type": "code",
        "colab": {}
      },
      "source": [
        "doc = '#'\n",
        "workbook_read   = gc.open(doc)#読み書きするgoogle spreadsheet\n",
        "duration = '20200201-20200229'\n",
        "data_type_1 = 'review_click_3brands'\n",
        "data_type_2 = 'call_tracking'\n",
        "worksheet_read_1 = workbook_read.worksheet('raw' + '_'+ data_type_1 +'_'+ duration)\n",
        "worksheet_read_2 = workbook_read.worksheet('raw' + '_' + data_type_2 + '_' + duration)\n",
        "rows_1 = worksheet_read_1.get_all_values()\n",
        "rows_2 = worksheet_read_2.get_all_values()\n",
        "columns = {'ブランド名':'Brand','店舗名':'Shop','クリック数':'Review','クリック率(%)':'%_Review','全件':'Call','通話':'Call_through','通話中':'Call_not_through','キャンセル':'Cancel'}"
      ],
      "execution_count": 0,
      "outputs": []
    },
    {
      "cell_type": "code",
      "metadata": {
        "colab_type": "code",
        "id": "XH_R9lfdlsZl",
        "colab": {}
      },
      "source": [
        "#データ読み込み\n",
        "Review = pd.DataFrame(rows_1[:][1: len(rows_1)], columns=rows_1[0]).reset_index().drop('index', axis=1).rename(columns=columns)\n",
        "Call = pd.DataFrame(rows_2[:][1: len(rows_2)], columns=rows_2[0]).reset_index().drop('index', axis=1).rename(columns=columns)"
      ],
      "execution_count": 0,
      "outputs": []
    },
    {
      "cell_type": "code",
      "metadata": {
        "colab_type": "code",
        "id": "CQzFASVYodem",
        "colab": {}
      },
      "source": [
        "Review_Call = pd.merge(Review, Call, how='inner', left_on=['Brand','Shop'],right_on=['Brand','Shop']).drop('期間',axis=1).drop('計測月',axis=1).set_index(['Brand', 'Shop']).astype(float).rename({'VANSAN':'Vansan','串カツ田中':'Tanaka','すみれ':'Sumire'},axis=0).reset_index()"
      ],
      "execution_count": 0,
      "outputs": []
    },
    {
      "cell_type": "code",
      "metadata": {
        "colab_type": "code",
        "id": "kvpTV9VmRbPw",
        "colab": {}
      },
      "source": [
        "Sumire = Review_Call[Review_Call['Brand'] == 'Sumire']\n",
        "Tanaka = Review_Call[Review_Call['Brand'] == 'Tanaka']\n",
        "Vansan = Review_Call[Review_Call['Brand'] == 'Vansan']\n",
        "Sumire_Review = Sumire.loc[:,'Review']\n",
        "Sumire_Call = Sumire.loc[:,'Call']\n",
        "Tanaka_Review = Tanaka.loc[:,'Review']\n",
        "Tanaka_Call = Tanaka.loc[:,'Call']\n",
        "Vansan_Review = Vansan.loc[:,'Review']\n",
        "Vansan_Call = Vansan.loc[:,'Call']"
      ],
      "execution_count": 0,
      "outputs": []
    },
    {
      "cell_type": "code",
      "metadata": {
        "colab_type": "code",
        "id": "uVd3CgyIRZ-F",
        "colab": {}
      },
      "source": [
        "fig = plt.figure(figsize=(12,8))\n",
        "plt.xticks(np.arange(0, 150, 25))\n",
        "plt.yticks(np.arange(0, 350, 50))\n",
        "\n",
        "plt.scatter(np.array(Sumire_Review), np.array(Sumire_Call), s=40, c='red', label='Sumire')\n",
        "plt.scatter(np.array(Tanaka_Review), np.array(Tanaka_Call), s=40, c='blue', label='Tanaka')\n",
        "plt.scatter(np.array(Vansan_Review), np.array(Vansan_Call), s=40, c='black', label='Vansan')\n",
        "plt.xlabel('The number of Reviews')\n",
        "# add a label to the y axis\n",
        "plt.ylabel('The number of Calls')\n",
        "# add a title\n",
        "plt.title('Scatter plot between Reviews and Calls')\n",
        "# add a legend (uses the labels from plt.scatter)\n",
        "plt.legend()\n",
        "# add the legend to loc=4 (the lower right hand corner), also gets rid of the frame and adds a title\n",
        "plt.legend(loc=1, frameon=False, title='Legend')\n",
        "plt.rcParams[\"font.size\"] = 20\n",
        "plt.tight_layout()\n",
        "fig.savefig('Scatter_plot_between_Reviews_and_Calls_before_normalize.png')"
      ],
      "execution_count": 0,
      "outputs": []
    },
    {
      "cell_type": "code",
      "metadata": {
        "colab_type": "code",
        "id": "_DzHaQ1iGBwV",
        "colab": {}
      },
      "source": [
        "plt.figure(figsize=(12,8))\n",
        "plt.xticks(np.arange(-4, 4, 1))\n",
        "plt.yticks(np.arange(-4, 4, 1))\n",
        "\n",
        "plt.scatter((np.array(Sumire_Review)-Sumire_Review.mean())/Sumire_Review.std(), (np.array(Sumire_Call)-Sumire_Call.mean())/Sumire_Call.std(), s=40, c='red', label='Sumire')\n",
        "plt.scatter((np.array(Tanaka_Review)-Tanaka_Review.mean())/Tanaka_Review.std(), (np.array(Tanaka_Call)-Tanaka_Call.mean())/Tanaka_Call.std(), s=40, c='blue', label='Tanaka')\n",
        "plt.scatter((np.array(Vansan_Review)-Vansan_Review.mean())/Vansan_Review.std(), (np.array(Vansan_Call)-Vansan_Call.mean())/Vansan_Call.std(), s=40, c='black', label='Vansan')\n",
        "plt.xlabel('The number of Reviews')\n",
        "# add a label to the y axis\n",
        "plt.ylabel('The number of Calls')\n",
        "# add a title\n",
        "plt.title('Scatter plot between Reviews and Calls')\n",
        "# add a legend (uses the labels from plt.scatter)\n",
        "plt.legend()\n",
        "# add the legend to loc=4 (the lower right hand corner), also gets rid of the frame and adds a title\n",
        "plt.legend(loc=1, frameon=False, title='Legend')\n",
        "plt.rcParams[\"font.size\"] = 20\n",
        "plt.tight_layout()\n",
        "plt.savefig('Scatter_plot_between_Reviews_and_Calls_afer_normalize.png')"
      ],
      "execution_count": 0,
      "outputs": []
    },
    {
      "cell_type": "code",
      "metadata": {
        "colab_type": "code",
        "id": "ODYt9UG1av4T",
        "colab": {}
      },
      "source": [
        "import seaborn as sns\n",
        "from scipy import stats\n",
        "plt.subplot?\n",
        "sns.set_style('white')"
      ],
      "execution_count": 0,
      "outputs": []
    },
    {
      "cell_type": "code",
      "metadata": {
        "colab_type": "code",
        "id": "gsYNp0FHQjne",
        "colab": {}
      },
      "source": [
        "plt.figure(figsize=(12,8))\n",
        "sns.jointplot(x='Review', y='Call', data=Review_Call, kind='reg', height=10).annotate(stats.pearsonr);\n",
        "plt.title('Joinplot between Reviews and Calls for all',fontsize=12)\n",
        "plt.savefig('Join_plot_between_Reviews_and_Calls_for_all.png')"
      ],
      "execution_count": 0,
      "outputs": []
    },
    {
      "cell_type": "code",
      "metadata": {
        "colab_type": "code",
        "id": "5AsUoiJxG4Z4",
        "colab": {}
      },
      "source": [
        "sns.jointplot(x='Review', y='Call', data=Sumire, kind='reg', height=10).annotate(stats.pearsonr);\n",
        "plt.title('Joinplot between Reviews and Calls for Sumire',fontsize=12)\n",
        "plt.savefig('Join_plot_between_Reviews_and_Calls_for_Sumire.png')"
      ],
      "execution_count": 0,
      "outputs": []
    },
    {
      "cell_type": "code",
      "metadata": {
        "colab_type": "code",
        "id": "iy-XJGutMWyI",
        "colab": {}
      },
      "source": [
        "sns.jointplot(x='Review', y='Call', data=Tanaka, kind='reg',height=10).annotate(stats.pearsonr);\n",
        "plt.title('Joinplot between Reviews and Calls for Tanaka',fontsize=12)\n",
        "plt.savefig('Join_plot_between_Reviews_and_Calls_for_Tanaka.png')"
      ],
      "execution_count": 0,
      "outputs": []
    },
    {
      "cell_type": "code",
      "metadata": {
        "colab_type": "code",
        "id": "dG0gUpBmN4Sm",
        "colab": {}
      },
      "source": [
        "sns.jointplot(x='Review', y='Call', data=Vansan, kind='reg', height=10).annotate(stats.pearsonr)\n",
        "plt.title('Joinplot between Reviews and Calls for VANSAN',fontsize=12)\n",
        "plt.savefig('Join_plot_between_Reviews_and_Calls_for_VANSAN.png')"
      ],
      "execution_count": 0,
      "outputs": []
    },
    {
      "cell_type": "code",
      "metadata": {
        "colab_type": "code",
        "id": "sc7Qbb9fxtyn",
        "colab": {}
      },
      "source": [
        "sns.lmplot(x='Review', y='Call', hue='Brand',data=Review_Call, height=10, palette=\"Set1\")\n",
        "plt.savefig('Lm_plot_between_Reviews_and_Calls_for_all.png')"
      ],
      "execution_count": 0,
      "outputs": []
    },
    {
      "cell_type": "code",
      "metadata": {
        "colab_type": "code",
        "id": "9ghSAMdkFOjK",
        "colab": {}
      },
      "source": [
        "sns.lmplot(x='Review', y='Call', hue='Brand',data=Review_Call, height=10, palette=\"Set1\", col=\"Brand\", aspect=.4, x_jitter=.1)\n",
        "plt.savefig('Lm_lmplot_between_Reviews_and_Calls_for_all_separately.png')"
      ],
      "execution_count": 0,
      "outputs": []
    },
    {
      "cell_type": "code",
      "metadata": {
        "colab_type": "code",
        "id": "mG1JxGnkPVxB",
        "colab": {}
      },
      "source": [
        "#レビュー点数の高さもコール数へ影響？"
      ],
      "execution_count": 0,
      "outputs": []
    },
    {
      "cell_type": "code",
      "metadata": {
        "colab_type": "code",
        "id": "IKe6ahEgXnFD",
        "colab": {}
      },
      "source": [
        "#メタデータ\n",
        "data_type_3 = 'score_review'\n",
        "worksheet_read_3 = workbook_read.worksheet('raw' + '_' + data_type_3 + '_' + duration)\n",
        "columns = {'ブランド名':'Brand','店舗名':'Shop','クリック数':'Review','クリック率(%)':'%_Review','全件':'Call','通話':'Call_through','通話中':'Call_not_through','キャンセル':'Cancel','Sc\"ブランド\"':'Brand','店舗名':'Shop','スコア':'review_score','合計レビュー数':'review_count'}\n",
        "#データ読み込み\n",
        "rows_3 = worksheet_read_3.get_all_values()\n",
        "Review = pd.DataFrame(rows_1[:][1: len(rows_1)], columns=rows_1[0]).reset_index().drop('index', axis=1).rename(columns=columns)\n",
        "Call = pd.DataFrame(rows_2[:][1: len(rows_2)], columns=rows_2[0]).reset_index().drop('index', axis=1).rename(columns=columns)\n",
        "Score_R =  pd.DataFrame(rows_3[:][1: len(rows_3)], columns=rows_3[0]).reset_index().drop('index', axis=1).rename(columns=columns)"
      ],
      "execution_count": 0,
      "outputs": []
    },
    {
      "cell_type": "code",
      "metadata": {
        "colab_type": "code",
        "id": "hCePQuDQZOD6",
        "colab": {}
      },
      "source": [
        "Review_Call = pd.merge(Review, Call, how='inner', left_on=['Brand','Shop'],right_on=['Brand','Shop']).drop('期間',axis=1).drop('計測月',axis=1)\n",
        "Review_Call"
      ],
      "execution_count": 0,
      "outputs": []
    },
    {
      "cell_type": "code",
      "metadata": {
        "colab_type": "code",
        "id": "lpvp3gpUayXp",
        "colab": {}
      },
      "source": [
        "Review_Call_Score = pd.merge(Review_Call, Score_R, how='inner', left_on=['Brand','Shop'], right_on=['Brand','Shop']).drop('import_at',axis=1).set_index(['Brand', 'Shop']).astype(float).rename({'VANSAN':'Vansan','串カツ田中':'Tanaka','すみれ':'Sumire'},axis=0).reset_index()\n",
        "Review_Call_Score"
      ],
      "execution_count": 0,
      "outputs": []
    },
    {
      "cell_type": "code",
      "metadata": {
        "colab_type": "code",
        "id": "wStpLAoCZJst",
        "colab": {}
      },
      "source": [
        "Sumire = Review_Call_Score[Review_Call_Score['Brand'] == 'Sumire']\n",
        "Tanaka = Review_Call_Score[Review_Call_Score['Brand'] == 'Tanaka']\n",
        "Vansan = Review_Call_Score[Review_Call_Score['Brand'] == 'Vansan']\n",
        "Sumire_Review = Sumire.loc[:,'Review']\n",
        "Sumire_Call = Sumire.loc[:,'Call']\n",
        "Sumire_Score = Sumire.loc[:,'review_score']\n",
        "Tanaka_Review = Tanaka.loc[:,'Review']\n",
        "Tanaka_Call = Tanaka.loc[:,'Call']\n",
        "Tanaka_Score = Tanaka.loc[:,'review_score']\n",
        "Vansan_Review = Vansan.loc[:,'Review']\n",
        "Vansan_Call = Vansan.loc[:,'Call']\n",
        "Vansan_Score = Tanaka.loc[:,'review_score']"
      ],
      "execution_count": 0,
      "outputs": []
    },
    {
      "cell_type": "code",
      "metadata": {
        "colab_type": "code",
        "id": "3fDgOImhA94l",
        "colab": {}
      },
      "source": [
        "len(Tanaka),len(Sumire),len(Vansan)"
      ],
      "execution_count": 0,
      "outputs": []
    },
    {
      "cell_type": "code",
      "metadata": {
        "colab_type": "code",
        "id": "2RVCXB3zaHEi",
        "colab": {}
      },
      "source": [
        "plt.figure()\n",
        "sns.pairplot(Review_Call_Score.loc[:,['Brand','Review','Call','review_score']], hue='Brand', diag_kind='kde', size=5);\n",
        "plt.savefig('Pair_plot_between_Reviews_Calls_and_review_score_for_all.png')"
      ],
      "execution_count": 0,
      "outputs": []
    },
    {
      "cell_type": "code",
      "metadata": {
        "colab_type": "code",
        "id": "7LpEOF1sdTw2",
        "colab": {}
      },
      "source": [
        "Review_Call_Score['Review_std'] = preprocessing.scale(Review_Call_Score.loc[:,['Review']])\n",
        "Review_Call_Score['Call_std'] = preprocessing.scale(Review_Call_Score.loc[:,['Call']])\n",
        "Review_Call_Score['review_score_std'] = preprocessing.scale(Review_Call_Score.loc[:,['review_score']])\n",
        "Review_Call_Score"
      ],
      "execution_count": 0,
      "outputs": []
    },
    {
      "cell_type": "code",
      "metadata": {
        "colab_type": "code",
        "id": "pz5BrUG3hK6D",
        "colab": {}
      },
      "source": [
        "Review_Call_Score.loc[:,['Review','Call','review_score']].corr()"
      ],
      "execution_count": 0,
      "outputs": []
    },
    {
      "cell_type": "code",
      "metadata": {
        "colab_type": "code",
        "id": "P9JaYwpsiWd2",
        "colab": {}
      },
      "source": [
        "Sumire.loc[:,['Review','Call','review_score']].corr()"
      ],
      "execution_count": 0,
      "outputs": []
    },
    {
      "cell_type": "code",
      "metadata": {
        "colab_type": "code",
        "id": "WtpQz7Pej1sd",
        "colab": {}
      },
      "source": [
        "Tanaka.loc[:,['Review','Call','review_score']].corr()"
      ],
      "execution_count": 0,
      "outputs": []
    },
    {
      "cell_type": "code",
      "metadata": {
        "colab_type": "code",
        "id": "VxcS_G_6kK0j",
        "colab": {}
      },
      "source": [
        "Vansan.loc[:,['Review','Call','review_score']].corr()"
      ],
      "execution_count": 0,
      "outputs": []
    },
    {
      "cell_type": "code",
      "metadata": {
        "colab_type": "code",
        "id": "2QZSJ5JFEJfu",
        "colab": {}
      },
      "source": [
        "sns.jointplot(x='review_score', y='Call', data=Review_Call_Score, kind='reg', height=10).annotate(stats.pearsonr)\n",
        "plt.title('Joinplot between Review Score and Calls for all',fontsize=12)\n",
        "plt.savefig('Join_plot_between_review_score_and_Calls_for_all.png')"
      ],
      "execution_count": 0,
      "outputs": []
    },
    {
      "cell_type": "code",
      "metadata": {
        "colab_type": "code",
        "id": "GokmiiCtEJtj",
        "colab": {}
      },
      "source": [
        "sns.jointplot(x='review_score', y='Call', data=Tanaka, kind='reg', height=10).annotate(stats.pearsonr)\n",
        "plt.title('Joinplot between Review Score and Calls for Tanaka',fontsize=12)\n",
        "plt.savefig('Join_plot_between_Reviews_and_Calls_for_Tanaka.png')"
      ],
      "execution_count": 0,
      "outputs": []
    },
    {
      "cell_type": "code",
      "metadata": {
        "colab_type": "code",
        "id": "NLjCyTDbEJ3W",
        "colab": {}
      },
      "source": [
        "plt.figure(figsize=(10,10))\n",
        "sns.jointplot(x='review_score', y='Call', data=Sumire, kind='reg', height=10).annotate(stats.pearsonr)\n",
        "plt.title('Joinplot between Review Score and Calls for Sumire',fontsize=12)\n",
        "plt.savefig('Join_plot_between_Reviews_and_Calls_for_Sumire.png')"
      ],
      "execution_count": 0,
      "outputs": []
    },
    {
      "cell_type": "code",
      "metadata": {
        "colab_type": "code",
        "id": "_wTtpqiuEKea",
        "colab": {}
      },
      "source": [
        "plt.figure(figsize=(10,10))\n",
        "sns.jointplot(x='review_score', y='Call', data=Vansan, kind='reg', height=10).annotate(stats.pearsonr)\n",
        "plt.title('Joinplot between Review Score and Calls for VANSAN',fontsize=12)\n",
        "plt.savefig('Join_plot_between_Reviews_and_Calls_for_VANSAN.png')"
      ],
      "execution_count": 0,
      "outputs": []
    },
    {
      "cell_type": "code",
      "metadata": {
        "id": "F3C22_MjtF2g",
        "colab_type": "code",
        "colab": {}
      },
      "source": [
        "sns.lmplot(x='review_score', y='Call', hue='Brand',data=Review_Call_Score, height=10, palette=\"Set1\")\n",
        "plt.title('Lmplot between Review Score and Calls for all',fontsize=12)\n",
        "plt.savefig('Lm_plot_between_Review_Score_and_Calls_for_all.png')"
      ],
      "execution_count": 0,
      "outputs": []
    },
    {
      "cell_type": "code",
      "metadata": {
        "id": "pN3yaPIQtF2i",
        "colab_type": "code",
        "colab": {}
      },
      "source": [
        "sns.lmplot(x='review_score', y='Call', hue='Brand',data=Review_Call_Score, height=10, palette=\"Set1\", col=\"Brand\", aspect=.4, x_jitter=.1)\n",
        "plt.title('Lmplot between Review Score and Calls for all seaparately',fontsize=12)\n",
        "plt.savefig('Lm_lmplot_between_Review_Score_and_Calls_for_all_separately.png')"
      ],
      "execution_count": 0,
      "outputs": []
    },
    {
      "cell_type": "code",
      "metadata": {
        "colab_type": "code",
        "id": "3bZtW2REkMsv",
        "colab": {}
      },
      "source": [
        "LinearModel = LinearRegression()"
      ],
      "execution_count": 0,
      "outputs": []
    },
    {
      "cell_type": "code",
      "metadata": {
        "colab_type": "code",
        "id": "70bfQf3YnAml",
        "colab": {}
      },
      "source": [
        "model_lr = LinearRegression()\n",
        "X = Review_Call_Score.loc[:,['Review','review_score']]\n",
        "Y = Review_Call_Score.loc[:,['Call']]\n",
        "model_lr.fit(X,Y)\n",
        "# 回帰係数\n",
        "print(model_lr.coef_)\n",
        "# 切片 (誤差)\n",
        "print(model_lr.intercept_)\n",
        "# 決定係数\n",
        "print(model_lr.score(X, Y))"
      ],
      "execution_count": 0,
      "outputs": []
    },
    {
      "cell_type": "code",
      "metadata": {
        "colab_type": "code",
        "id": "lUsxSYeaoMUv",
        "colab": {}
      },
      "source": [
        "plt.figure(figsize=(12,8))\n",
        "\n",
        "fig = plt.figure()\n",
        "ax = fig.add_subplot(111, projection='3d')\n",
        " \n",
        "x = Review_Call_Score.loc[:,['Review']]\n",
        "y = Review_Call_Score.loc[:,['review_score']]\n",
        "z = Review_Call_Score.loc[:,['Call']]\n",
        " \n",
        "ax.scatter(x, y, z)"
      ],
      "execution_count": 0,
      "outputs": []
    },
    {
      "cell_type": "code",
      "metadata": {
        "colab_type": "code",
        "id": "834aOOs6u9eQ",
        "colab": {}
      },
      "source": [
        "X = Review_Call_Score.loc[:,['Review','review_score']]\n",
        "X = sm.add_constant(X)\n",
        "Y = Review_Call_Score.loc[:,['Call']]\n",
        "# 最小二乗法でモデル化\n",
        "model = sm.OLS(Y, X)\n",
        "result = model.fit()\n",
        "\n",
        "# 重回帰分析の結果を表示する\n",
        "result.summary()"
      ],
      "execution_count": 0,
      "outputs": []
    },
    {
      "cell_type": "code",
      "metadata": {
        "colab_type": "code",
        "id": "9oLM3tYn01i6",
        "colab": {}
      },
      "source": [
        ""
      ],
      "execution_count": 0,
      "outputs": []
    }
  ]
}